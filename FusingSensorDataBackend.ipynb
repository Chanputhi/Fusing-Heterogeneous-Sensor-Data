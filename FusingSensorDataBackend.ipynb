{
 "cells": [
  {
   "cell_type": "markdown",
   "id": "b2f54cb6",
   "metadata": {},
   "source": [
    "# 1. Install and Import Dependencies"
   ]
  },
  {
   "cell_type": "markdown",
   "id": "1fba7088",
   "metadata": {},
   "source": [
    "Run the following installation code only once (each) when first installing/using it"
   ]
  },
  {
   "cell_type": "code",
   "execution_count": null,
   "id": "824f7ad8",
   "metadata": {},
   "outputs": [],
   "source": [
    "# For Mac M1 (copy it and paste/run it on terminal)\n",
    "conda install pytorch torchvision torchaudio -c pytorch"
   ]
  },
  {
   "cell_type": "code",
   "execution_count": null,
   "id": "671b3633",
   "metadata": {},
   "outputs": [],
   "source": [
    "# Clone Yolov5\n",
    "!git clone https://github.com/ultralytics/yolov5"
   ]
  },
  {
   "cell_type": "code",
   "execution_count": null,
   "id": "0d90245a",
   "metadata": {},
   "outputs": [],
   "source": [
    "cd yolov5"
   ]
  },
  {
   "cell_type": "code",
   "execution_count": null,
   "id": "d95c05b5",
   "metadata": {},
   "outputs": [],
   "source": [
    "!pip install -r requirements.txt"
   ]
  },
  {
   "cell_type": "code",
   "execution_count": null,
   "id": "fefee392",
   "metadata": {},
   "outputs": [],
   "source": [
    "# Install Python Firebase\n",
    "!pip install python-firebase"
   ]
  },
  {
   "cell_type": "code",
   "execution_count": null,
   "id": "b5be96b3",
   "metadata": {},
   "outputs": [],
   "source": [
    "# Install Firebase Realtime Database - Firebase Admin\n",
    "!pip install firebase_admin"
   ]
  },
  {
   "cell_type": "markdown",
   "id": "b41a4985",
   "metadata": {},
   "source": [
    "# 2. Import PyTorch Object Detection Libraries"
   ]
  },
  {
   "cell_type": "code",
   "execution_count": null,
   "id": "56029c22",
   "metadata": {},
   "outputs": [],
   "source": [
    "import torch\n",
    "from matplotlib import pyplot as plt\n",
    "import numpy as np\n",
    "import cv2\n",
    "\n",
    "import json\n",
    "from datetime import datetime"
   ]
  },
  {
   "cell_type": "markdown",
   "id": "57dbd654",
   "metadata": {},
   "source": [
    "# 3. Load Model"
   ]
  },
  {
   "cell_type": "code",
   "execution_count": null,
   "id": "ebbe729b",
   "metadata": {},
   "outputs": [],
   "source": [
    "# model for Yolov5\n",
    "model = torch.hub.load('ultralytics/yolov5', 'yolov5x')"
   ]
  },
  {
   "cell_type": "code",
   "execution_count": null,
   "id": "d93eab50",
   "metadata": {},
   "outputs": [],
   "source": [
    "model"
   ]
  },
  {
   "cell_type": "markdown",
   "id": "1b51f6f6",
   "metadata": {},
   "source": [
    "# 4. Setup and Import Firebase"
   ]
  },
  {
   "cell_type": "markdown",
   "id": "b1819737",
   "metadata": {},
   "source": [
    "### Create Firebase Realtime Database - Firebase Admin\n",
    "\n",
    "i.) Create Firebase Account\n",
    "\n",
    "ii.) Go to Console\n",
    "\n",
    "iii.) Create Project\n",
    "\n",
    "iv.) Click \"Build\" -> Click \"Realtime Database\"\n",
    "\n",
    "v.)  Create Database ( Security rules: choose \"locked mode\")\n",
    "\n",
    "vi.) Rules (change it to true)\n",
    "{\n",
    "  \"rules\": {\n",
    "    \".read\": true,\n",
    "    \".write\": true\n",
    "  }\n",
    "}\n",
    "\n",
    "vi.i.) Rules (add .indexOn to rules) (optional: to access each child)\n",
    "\n",
    "{\n",
    "  \"rules\": {\n",
    "    \".read\": true,\n",
    "    \".write\": true,\n",
    "      \"video\": {\n",
    "        \".indexOn\":[\"sensorId\", \"imageId\", \"name\", \"confidence\", \"datetime\"]\n",
    "      }\n",
    "  }\n",
    "}\n",
    "\n",
    "vii.) Copy your firebase reference url to initalize firebase_admin app in the following code\n",
    "\n",
    "Example URL: https://example-default-rtdb.firebaseio.com/\n",
    "\n",
    "Example: firebase_admin = firebase_admin.initialize_app(cred, {'databaseURL': 'https://example-default-rtdb.firebaseio.com/'})\n",
    "\n",
    "viii.) Go to \"Project Setting\" -> Click \"Service accounts\" -> Click \"Python\"\n",
    "\n",
    "ix.) Generate new private key\n",
    "\n",
    "x.) Copy the downloaded private key .json and paste it into your folder\n",
    "\n",
    "xi.) Rename it to serviceAccountKey.json (or use its original name if you prefer)\n",
    "\n",
    "xii.) Run the following code."
   ]
  },
  {
   "cell_type": "code",
   "execution_count": null,
   "id": "3a97f669",
   "metadata": {},
   "outputs": [],
   "source": [
    "import firebase_admin\n",
    "from firebase_admin import credentials\n",
    "from firebase_admin import db\n",
    "\n",
    "# cred = credentials.Certificate(\"{path/to/serviceAccountKey.json}\")\n",
    "cred = credentials.Certificate(\"serviceAccountKey.json\")\n",
    "\n",
    "firebase_admin = firebase_admin.initialize_app(cred, {'databaseURL': '{copy your reference url and put it here}'})"
   ]
  },
  {
   "cell_type": "markdown",
   "id": "555dad6d",
   "metadata": {},
   "source": [
    "# 5. Real-Time Object Detection"
   ]
  },
  {
   "cell_type": "code",
   "execution_count": null,
   "id": "609ca1f5",
   "metadata": {},
   "outputs": [],
   "source": [
    "cap = cv2.VideoCapture(0)\n",
    "i = 0\n",
    "pushed_classes = set()\n",
    "\n",
    "while cap.isOpened():\n",
    "    \n",
    "    ret, frame = cap.read()\n",
    "    results = model(frame)\n",
    "    cv2.imshow('Security Camera', np.squeeze(results.render()))\n",
    "    \n",
    "    # PRINT OUT THE CAPTURED IMAGES RESULTS    \n",
    "    print(\"Results\")\n",
    "    results.print()\n",
    "\n",
    "    imageResult = results.pandas().xyxy[0]\n",
    "    imageResult[\"sensorId\"] = 1\n",
    "    imageResult[\"imageId\"] = i\n",
    "    i = i + 1\n",
    "    \n",
    "    # Use DateTime now for each captured images    \n",
    "    now = datetime.now()    \n",
    "    imageResult[\"datetime\"] = now.strftime(\"%Y/%m/%d %H:%M:%S\")\n",
    "\n",
    "    imgResult = imageResult[[\"sensorId\", \"imageId\", \"name\", \"confidence\", \"datetime\"]]\n",
    "    \n",
    "    # CONVERT IT TO JSON\n",
    "    lastResult = imgResult.to_json(orient=\"records\")\n",
    "    jsonResult = json.loads(lastResult)\n",
    "\n",
    "    # Push only specific class name and push per image\n",
    "    ref = db.reference('video/')\n",
    "    for eachResult in jsonResult:\n",
    "        if eachResult[\"name\"] in [\"person\", \"cell phone\", \"knife\", \"fork\"] and eachResult[\"name\"] not in pushed_classes:\n",
    "            ref.push(eachResult)\n",
    "            pushed_classes.add(eachResult[\"name\"])\n",
    "\n",
    "    if i % 25 == 0:\n",
    "        pushed_classes.clear()\n",
    "    \n",
    "    if cv2.waitKey(10) & 0xFF == ord('q'):\n",
    "        break\n",
    "\n",
    "cap.release()\n",
    "cv2.destroyAllWindows()"
   ]
  },
  {
   "cell_type": "markdown",
   "id": "c8fa2677",
   "metadata": {},
   "source": [
    "# 6.) Retreive Data from Firebase"
   ]
  },
  {
   "cell_type": "code",
   "execution_count": null,
   "id": "f3a9b580",
   "metadata": {},
   "outputs": [],
   "source": [
    "# Retreive all Images/Videos data from Firebase\n",
    "ref = db.reference('video').get()\n",
    "print(ref)"
   ]
  },
  {
   "cell_type": "code",
   "execution_count": null,
   "id": "db1ea00b",
   "metadata": {},
   "outputs": [],
   "source": [
    "# Save data from firebase and store/write it in new file \"data.json\"\n",
    "import json\n",
    "\n",
    "ref = db.reference('video')\n",
    "data = ref.get()\n",
    "\n",
    "# Encode the data as a JSON string\n",
    "json_string = json.dumps(data)\n",
    "\n",
    "# Write the JSON string to a file\n",
    "with open(\"dataNew.json\", \"w\") as f:\n",
    "    f.write(json_string)"
   ]
  },
  {
   "cell_type": "code",
   "execution_count": null,
   "id": "dbe8af31",
   "metadata": {},
   "outputs": [],
   "source": [
    "# Retreive all Images/Videos data from Firebase with datetime order\n",
    "ref = db.reference('video')\n",
    "cref = ref.order_by_child('datetime').get()\n",
    "\n",
    "for key, val in cref.items():\n",
    "    print(\"key: \", key)\n",
    "    print(\"val: \", val)"
   ]
  },
  {
   "cell_type": "code",
   "execution_count": null,
   "id": "045c4c8a",
   "metadata": {},
   "outputs": [],
   "source": [
    "# Retreive Images/Videos from Firebase by 'person' name (to find specific object.name)\n",
    "ref = db.reference('video')\n",
    "cref = ref.order_by_child('name').equal_to('person').get()\n",
    "\n",
    "for key, val in cref.items():\n",
    "    print(\"key: \", key)\n",
    "    print(\"val: \", val)"
   ]
  },
  {
   "cell_type": "code",
   "execution_count": null,
   "id": "b03c6abf",
   "metadata": {},
   "outputs": [],
   "source": []
  },
  {
   "cell_type": "code",
   "execution_count": null,
   "id": "0133333d",
   "metadata": {},
   "outputs": [],
   "source": []
  }
 ],
 "metadata": {
  "kernelspec": {
   "display_name": "Python 3 (ipykernel)",
   "language": "python",
   "name": "python3"
  },
  "language_info": {
   "codemirror_mode": {
    "name": "ipython",
    "version": 3
   },
   "file_extension": ".py",
   "mimetype": "text/x-python",
   "name": "python",
   "nbconvert_exporter": "python",
   "pygments_lexer": "ipython3",
   "version": "3.9.12"
  }
 },
 "nbformat": 4,
 "nbformat_minor": 5
}
